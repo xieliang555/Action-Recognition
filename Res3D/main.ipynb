{
 "cells": [
  {
   "cell_type": "code",
   "execution_count": 1,
   "metadata": {
    "ExecuteTime": {
     "end_time": "2020-02-25T10:17:10.009402Z",
     "start_time": "2020-02-25T10:17:09.995728Z"
    }
   },
   "outputs": [],
   "source": [
    "import torch\n",
    "import torchvision\n",
    "from torchvision import transforms, datasets\n",
    "from torch.utils.data import DataLoader\n",
    "from torchsummaryX import summary\n",
    "import torch.optim as optim\n",
    "import torch.nn as nn\n",
    "from torch.utils.tensorboard import SummaryWriter\n",
    "\n",
    "import os\n",
    "import warnings\n",
    "warnings.filterwarnings(\"ignore\")\n",
    "from dataset import CSL_Isolated"
   ]
  },
  {
   "cell_type": "markdown",
   "metadata": {},
   "source": [
    "## Loading data"
   ]
  },
  {
   "cell_type": "code",
   "execution_count": 2,
   "metadata": {},
   "outputs": [],
   "source": [
    "transform = transforms.Compose([transforms.Resize([128, 128]),\n",
    "                                transforms.ToTensor(),\n",
    "                                transforms.Normalize(mean=[0.5], std=[0.5])])\n",
    "\n",
    "BSZ = 16\n",
    "data_path = \"/home/haodong/Data/CSL_Isolated/color_video_125000\"\n",
    "label_path = \"/home/haodong/Data/CSL_Isolated/dictionary.txt\"\n",
    "train_set = CSL_Isolated(data_path, label_path, train=True, transform=transform)\n",
    "test_set = CSL_Isolated(data_path, label_path, train=False, transform=transform)\n",
    "train_loader = DataLoader(train_set, batch_size=BSZ, shuffle=True, num_workers=10)\n",
    "test_loader = DataLoader(test_set, batch_size=BSZ, shuffle=True, num_workers=10)"
   ]
  },
  {
   "cell_type": "code",
   "execution_count": 3,
   "metadata": {
    "ExecuteTime": {
     "end_time": "2020-02-25T07:17:14.087404Z",
     "start_time": "2020-02-25T07:03:46.899534Z"
    }
   },
   "outputs": [],
   "source": [
    "# BSZ = 16\n",
    "\n",
    "# transform = transforms.Compose([utils.RandomResizedCropVideo(112), utils.ToTensorVideo()])\n",
    "\n",
    "# data_root = '/mnt/data/public/datasets/HMDB'\n",
    "\n",
    "# train_loader = DataLoader(datasets.HMDB51(root = os.path.join(data_root, 'hmdb51'), \n",
    "#                                           annotation_path = os.path.join(data_root,'splits'),\n",
    "#                                           frames_per_clip = 8, fold = 1, train = True, \n",
    "#                                           transform = transform), \n",
    "#                           batch_size = BSZ, shuffle = True, num_workers = 4)\n",
    "\n",
    "# val_loader = DataLoader(datasets.HMDB51(root = os.path.join(data_root, 'hmdb51'), \n",
    "#                                         annotation_path = os.path.join(data_root, 'splits'),\n",
    "#                                         frames_per_clip = 8, fold = 2, train = False, \n",
    "#                                         transform = transform), \n",
    "#                         batch_size = BSZ, shuffle = True, num_workers = 4)\n",
    "\n",
    "# test_loader = DataLoader(datasets.HMDB51(root = os.path.join(data_root, 'hmdb51'), \n",
    "#                                          annotation_path = os.path.join(data_root, 'splits'),\n",
    "#                                          frames_per_clip = 8, fold = 3, train = False, \n",
    "#                                          transform = transform), \n",
    "#                          batch_size = BSZ, shuffle = True, num_workers = 4)\n",
    "\n",
    "\n",
    "\n",
    "# input_size = next(iter(train_loader))[0].size()\n",
    "# assert input_size == torch.Size([BSZ, 3, 8, 112, 112]), 'input_size is {}'.format(input_size)"
   ]
  },
  {
   "cell_type": "code",
   "execution_count": 4,
   "metadata": {},
   "outputs": [
    {
     "name": "stdout",
     "output_type": "stream",
     "text": [
      "train loader 6250\n",
      "test loader 1563\n"
     ]
    }
   ],
   "source": [
    "print('train loader', len(train_loader))\n",
    "print('test loader', len(test_loader))"
   ]
  },
  {
   "cell_type": "markdown",
   "metadata": {},
   "source": [
    "## Define model "
   ]
  },
  {
   "cell_type": "code",
   "execution_count": 5,
   "metadata": {
    "ExecuteTime": {
     "end_time": "2020-02-25T05:40:40.258986Z",
     "start_time": "2020-02-25T05:40:38.137389Z"
    }
   },
   "outputs": [],
   "source": [
    "LR = 1e-4\n",
    "NEPOCH = 10\n",
    "device = torch.device('cuda:2' if torch.cuda.is_available() else 'cpu')\n",
    "\n",
    "model = torchvision.models.video.r3d_18(pretrained=True)\n",
    "inp_feature = model.fc.in_features\n",
    "model.fc = nn.Linear(inp_feature, 500)\n",
    "model = model.to(device)\n",
    "\n",
    "criterion =  nn.CrossEntropyLoss()\n",
    "optimizer = optim.Adam(model.parameters(), lr = LR)\n",
    "path = path = f'bsz:{BSZ}-lr:{LR}-nepoch:{NEPOCH}'\n",
    "writer = SummaryWriter(os.path.join('./log', path))"
   ]
  },
  {
   "cell_type": "markdown",
   "metadata": {},
   "source": [
    "## Define train"
   ]
  },
  {
   "cell_type": "code",
   "execution_count": 6,
   "metadata": {},
   "outputs": [],
   "source": [
    "# train acc >1 ?\n",
    "def train(model, train_loader, criterion, optimizer, epoch, writer, device):\n",
    "    model.train()\n",
    "    running_loss = 0.0\n",
    "    running_accuracy = 0.0\n",
    "    for batch_idx, batch in enumerate(train_loader):\n",
    "        inputs = batch['data'].to(device)\n",
    "        target = batch['label'].to(device)\n",
    "        optimizer.zero_grad()\n",
    "        outputs = model(inputs)\n",
    "        loss = criterion(outputs, target.view(-1))\n",
    "        loss.backward()\n",
    "        optimizer.step()\n",
    "\n",
    "        predict = outputs.max(1)[1]\n",
    "        running_accuracy += predict.eq(target).sum().item() / len(target)\n",
    "        running_loss += loss.item()\n",
    "\n",
    "        if batch_idx % 600 == 599:\n",
    "            writer.add_scalar('train loss',\n",
    "                              running_loss / 600,\n",
    "                              epoch * len(train_loader) + batch_idx)\n",
    "            writer.add_scalar('train accuracy',\n",
    "                              running_accuracy / 600,\n",
    "                              epoch * len(train_loader) + batch_idx)\n",
    "\n",
    "            running_loss = 0.0\n",
    "            running_accuracy = 0.0"
   ]
  },
  {
   "cell_type": "markdown",
   "metadata": {},
   "source": [
    "## Define val"
   ]
  },
  {
   "cell_type": "code",
   "execution_count": 7,
   "metadata": {},
   "outputs": [],
   "source": [
    "def evaluate(model, val_loader, criterion, device):\n",
    "    model.eval()\n",
    "    epoch_loss = 0.0\n",
    "    epoch_accuracy = 0.0\n",
    "    with torch.no_grad():\n",
    "        for batch_idx, batch in enumerate(val_loader):\n",
    "            inputs = batch['data'].to(device)\n",
    "            target = batch['label'].to(device)\n",
    "            outputs = model(inputs)\n",
    "\n",
    "            epoch_loss += criterion(outputs, target.view(-1)).item()\n",
    "            predict = outputs.max(1)[1]\n",
    "            epoch_accuracy += predict.eq(target).sum().item() / len(target)\n",
    "            \n",
    "    return epoch_loss / len(val_loader), epoch_accuracy / len(val_loader)"
   ]
  },
  {
   "cell_type": "markdown",
   "metadata": {},
   "source": [
    "## Train and save"
   ]
  },
  {
   "cell_type": "code",
   "execution_count": 8,
   "metadata": {
    "ExecuteTime": {
     "end_time": "2020-02-25T10:19:15.482765Z",
     "start_time": "2020-02-25T10:17:20.106193Z"
    }
   },
   "outputs": [],
   "source": [
    "best_val_acc = 0.0\n",
    "for epoch in range(NEPOCH):\n",
    "    %time train(model, train_loader, criterion, optimizer, epoch, writer, device)\n",
    "    val_loss, val_acc = evaluate(model, test_loader, criterion, device)\n",
    "    print(f'epoch {epoch} | val loss {val_loss} | val acc {val_acc}')\n",
    "\n",
    "    if val_acc > best_val_acc:\n",
    "        best_val_acc = val_acc\n",
    "        torch.save(model, './save/res3d18.pth')\n",
    "        "
   ]
  },
  {
   "cell_type": "markdown",
   "metadata": {},
   "source": [
    "## Load and test"
   ]
  },
  {
   "cell_type": "code",
   "execution_count": 9,
   "metadata": {},
   "outputs": [
    {
     "name": "stdout",
     "output_type": "stream",
     "text": [
      "0 0.6589291095733643 0.75\n",
      "test loss 0.0004215797246150763 | test acc 0.0004798464491362764\n",
      "CPU times: user 376 ms, sys: 769 ms, total: 1.14 s\n",
      "Wall time: 13.3 s\n"
     ]
    }
   ],
   "source": [
    "%%time\n",
    "model_ft = torch.load('./save/res3d18.pth')\n",
    "test_loss, test_acc = evaluate(model_ft, test_loader, criterion, device)\n",
    "print(f'test loss {test_loss} | test acc {test_acc}')"
   ]
  }
 ],
 "metadata": {
  "kernelspec": {
   "display_name": "Python [conda env:sign]",
   "language": "python",
   "name": "conda-env-sign-py"
  },
  "language_info": {
   "codemirror_mode": {
    "name": "ipython",
    "version": 3
   },
   "file_extension": ".py",
   "mimetype": "text/x-python",
   "name": "python",
   "nbconvert_exporter": "python",
   "pygments_lexer": "ipython3",
   "version": "3.6.7"
  },
  "toc": {
   "base_numbering": 1,
   "nav_menu": {},
   "number_sections": true,
   "sideBar": true,
   "skip_h1_title": false,
   "title_cell": "Table of Contents",
   "title_sidebar": "Contents",
   "toc_cell": false,
   "toc_position": {},
   "toc_section_display": true,
   "toc_window_display": false
  }
 },
 "nbformat": 4,
 "nbformat_minor": 2
}
