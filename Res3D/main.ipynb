{
 "cells": [
  {
   "cell_type": "markdown",
   "metadata": {},
   "source": [
    "resnet 3D CNN + kinetics-400 pretrained + hmdb51 training  \n",
    "Reference paper: Can Spatiotemporal 3D CNNs Retrace the History of 2D CNNs and ImageNet?"
   ]
  },
  {
   "cell_type": "code",
   "execution_count": 3,
   "metadata": {
    "ExecuteTime": {
     "end_time": "2020-02-25T10:17:10.009402Z",
     "start_time": "2020-02-25T10:17:09.995728Z"
    }
   },
   "outputs": [],
   "source": [
    "import torch\n",
    "import torchvision\n",
    "from torchvision import transforms, datasets\n",
    "from torch.utils.data import DataLoader\n",
    "from torchsummaryX import summary\n",
    "import torch.optim as optim\n",
    "import torch.nn as nn\n",
    "from torch.utils.tensorboard import SummaryWriter\n",
    "\n",
    "import pretrained_model as model\n",
    "import os\n",
    "import time\n",
    "import copy\n",
    "import warnings\n",
    "warnings.filterwarnings(\"ignore\")\n",
    "import utils"
   ]
  },
  {
   "cell_type": "markdown",
   "metadata": {},
   "source": [
    "## Loading data"
   ]
  },
  {
   "cell_type": "code",
   "execution_count": 4,
   "metadata": {
    "ExecuteTime": {
     "end_time": "2020-02-25T07:17:14.087404Z",
     "start_time": "2020-02-25T07:03:46.899534Z"
    }
   },
   "outputs": [
    {
     "data": {
      "application/vnd.jupyter.widget-view+json": {
       "model_id": "c684e50a6063414e8733b6e506d79388",
       "version_major": 2,
       "version_minor": 0
      },
      "text/plain": [
       "HBox(children=(FloatProgress(value=0.0, max=423.0), HTML(value='')))"
      ]
     },
     "metadata": {},
     "output_type": "display_data"
    },
    {
     "name": "stdout",
     "output_type": "stream",
     "text": [
      "\n"
     ]
    },
    {
     "data": {
      "application/vnd.jupyter.widget-view+json": {
       "model_id": "e68b41f58c4a4d7182fd1779d1634a9d",
       "version_major": 2,
       "version_minor": 0
      },
      "text/plain": [
       "HBox(children=(FloatProgress(value=0.0, max=423.0), HTML(value='')))"
      ]
     },
     "metadata": {},
     "output_type": "display_data"
    },
    {
     "name": "stdout",
     "output_type": "stream",
     "text": [
      "\n"
     ]
    },
    {
     "data": {
      "application/vnd.jupyter.widget-view+json": {
       "model_id": "d7d37d924cbf46ebb35edbf6aa41cbe7",
       "version_major": 2,
       "version_minor": 0
      },
      "text/plain": [
       "HBox(children=(FloatProgress(value=0.0, max=423.0), HTML(value='')))"
      ]
     },
     "metadata": {},
     "output_type": "display_data"
    },
    {
     "name": "stdout",
     "output_type": "stream",
     "text": [
      "\n"
     ]
    }
   ],
   "source": [
    "BSZ = 16\n",
    "\n",
    "transform = transforms.Compose([utils.RandomResizedCropVideo(112), utils.ToTensorVideo()])\n",
    "\n",
    "data_root = '/mnt/data/public/datasets/HMDB'\n",
    "\n",
    "train_loader = DataLoader(datasets.HMDB51(root = os.path.join(data_root, 'hmdb51'), \n",
    "                                          annotation_path = os.path.join(data_root,'splits'),\n",
    "                                          frames_per_clip = 8, fold = 1, train = True, \n",
    "                                          transform = transform), \n",
    "                          batch_size = BSZ, shuffle = True, num_workers = 4)\n",
    "\n",
    "val_loader = DataLoader(datasets.HMDB51(root = os.path.join(data_root, 'hmdb51'), \n",
    "                                        annotation_path = os.path.join(data_root, 'splits'),\n",
    "                                        frames_per_clip = 8, fold = 2, train = False, \n",
    "                                        transform = transform), \n",
    "                        batch_size = BSZ, shuffle = True, num_workers = 4)\n",
    "\n",
    "test_loader = DataLoader(datasets.HMDB51(root = os.path.join(data_root, 'hmdb51'), \n",
    "                                         annotation_path = os.path.join(data_root, 'splits'),\n",
    "                                         frames_per_clip = 8, fold = 3, train = False, \n",
    "                                         transform = transform), \n",
    "                         batch_size = BSZ, shuffle = True, num_workers = 4)\n",
    "\n",
    "\n",
    "\n",
    "input_size = next(iter(train_loader))[0].size()\n",
    "assert input_size == torch.Size([BSZ, 3, 8, 112, 112]), 'input_size is {}'.format(input_size)"
   ]
  },
  {
   "cell_type": "code",
   "execution_count": 10,
   "metadata": {},
   "outputs": [
    {
     "name": "stdout",
     "output_type": "stream",
     "text": [
      "train loader 19998\n",
      "val loader 8655\n",
      "test loader 8574\n"
     ]
    }
   ],
   "source": [
    "print('train loader', len(train_loader))\n",
    "print('val loader', len(val_loader))\n",
    "print('test loader', len(test_loader))"
   ]
  },
  {
   "cell_type": "markdown",
   "metadata": {},
   "source": [
    "## Define model "
   ]
  },
  {
   "cell_type": "code",
   "execution_count": 5,
   "metadata": {
    "ExecuteTime": {
     "end_time": "2020-02-25T05:40:40.258986Z",
     "start_time": "2020-02-25T05:40:38.137389Z"
    }
   },
   "outputs": [],
   "source": [
    "LR = 1e-4\n",
    "device = torch.device('cuda:2' if torch.cuda.is_available() else 'cpu')\n",
    "model_ft = model.get_model().to(device)\n",
    "criterion =  nn.CrossEntropyLoss()\n",
    "optimizer = optim.Adam(model_ft.parameters(), lr = LR)\n",
    "path = path = f'bsz:{BSZ}-lr:{LR}-nepoch:{NEPOCH}'\n",
    "writer = SummaryWriter(os.path.join('./log', path))"
   ]
  },
  {
   "cell_type": "code",
   "execution_count": 6,
   "metadata": {},
   "outputs": [],
   "source": [
    "# print(model_ft)\n",
    "# summary(model_ft, torch.zeros(1, 3, 8, 112, 112).to(device))\n",
    "\n",
    "# classes = ['brush_hair', 'eat', 'kiss', 'shake_hands', 'sword',\n",
    "#            'cartwheel', 'fall_floor', 'laugh', 'shoot_ball', 'sword_exercise',\n",
    "#            'catch', 'fencing', 'pick', 'shoot_bow', 'talk',\n",
    "#            'chew', 'flic_flac', 'pour', 'shoot_gun', 'throw',\n",
    "#            'clap', 'golf', 'pullup', 'sit', 'turn',\n",
    "#            'climb', 'handstand', 'punch', 'situp', 'walk',\n",
    "#            'climb_stairs', 'hit', 'push', 'smile', 'wave',\n",
    "#            'dive', 'hug', 'pushup', 'smoke', 'draw_sword',\n",
    "#            'jump', 'ride_bike', 'somersault', 'dribble', 'kick',\n",
    "#            'ride_horse', 'stand', 'drink', 'kick_ball', 'run', 'swing_baseball']"
   ]
  },
  {
   "cell_type": "markdown",
   "metadata": {},
   "source": [
    "## Train and test"
   ]
  },
  {
   "cell_type": "code",
   "execution_count": 9,
   "metadata": {
    "ExecuteTime": {
     "end_time": "2020-02-25T10:19:15.482765Z",
     "start_time": "2020-02-25T10:17:20.106193Z"
    }
   },
   "outputs": [
    {
     "ename": "KeyboardInterrupt",
     "evalue": "",
     "output_type": "error",
     "traceback": [
      "\u001b[0;31m---------------------------------------------------------------------------\u001b[0m",
      "\u001b[0;31mKeyboardInterrupt\u001b[0m                         Traceback (most recent call last)",
      "\u001b[0;32m<ipython-input-9-0afb9cf1030b>\u001b[0m in \u001b[0;36m<module>\u001b[0;34m()\u001b[0m\n\u001b[1;32m      3\u001b[0m \u001b[0;32mfor\u001b[0m \u001b[0mepoch\u001b[0m \u001b[0;32min\u001b[0m \u001b[0mrange\u001b[0m\u001b[0;34m(\u001b[0m\u001b[0mNEPOCH\u001b[0m\u001b[0;34m)\u001b[0m\u001b[0;34m:\u001b[0m\u001b[0;34m\u001b[0m\u001b[0;34m\u001b[0m\u001b[0m\n\u001b[1;32m      4\u001b[0m \u001b[0;34m\u001b[0m\u001b[0m\n\u001b[0;32m----> 5\u001b[0;31m     \u001b[0mmodel\u001b[0m\u001b[0;34m.\u001b[0m\u001b[0mtrain\u001b[0m\u001b[0;34m(\u001b[0m\u001b[0mmodel_ft\u001b[0m\u001b[0;34m,\u001b[0m \u001b[0mtrain_loader\u001b[0m\u001b[0;34m,\u001b[0m \u001b[0mcriterion\u001b[0m\u001b[0;34m,\u001b[0m \u001b[0moptimizer\u001b[0m\u001b[0;34m,\u001b[0m \u001b[0mepoch\u001b[0m\u001b[0;34m,\u001b[0m \u001b[0mwriter\u001b[0m\u001b[0;34m,\u001b[0m \u001b[0mdevice\u001b[0m\u001b[0;34m)\u001b[0m\u001b[0;34m\u001b[0m\u001b[0;34m\u001b[0m\u001b[0m\n\u001b[0m\u001b[1;32m      6\u001b[0m     \u001b[0mval_loss\u001b[0m\u001b[0;34m,\u001b[0m \u001b[0mval_acc\u001b[0m \u001b[0;34m=\u001b[0m \u001b[0mmodel\u001b[0m\u001b[0;34m.\u001b[0m\u001b[0mevaluate\u001b[0m\u001b[0;34m(\u001b[0m\u001b[0mmodel_ft\u001b[0m\u001b[0;34m,\u001b[0m \u001b[0mval_loader\u001b[0m\u001b[0;34m,\u001b[0m \u001b[0mcriterion\u001b[0m\u001b[0;34m,\u001b[0m \u001b[0mdevice\u001b[0m\u001b[0;34m)\u001b[0m\u001b[0;34m\u001b[0m\u001b[0;34m\u001b[0m\u001b[0m\n\u001b[1;32m      7\u001b[0m     \u001b[0mprint\u001b[0m\u001b[0;34m(\u001b[0m\u001b[0;34mf'epoch {epoch} | val loss {val_loss} | val acc {val_acc}'\u001b[0m\u001b[0;34m)\u001b[0m\u001b[0;34m\u001b[0m\u001b[0;34m\u001b[0m\u001b[0m\n",
      "\u001b[0;32m~/Code/Action-Recognition/Res3D/pretrained_model.py\u001b[0m in \u001b[0;36mtrain\u001b[0;34m(model, train_loader, criterion, optimizer, epoch, writer, device)\u001b[0m\n\u001b[1;32m     37\u001b[0m \u001b[0;34m\u001b[0m\u001b[0m\n\u001b[1;32m     38\u001b[0m         \u001b[0mpredict\u001b[0m \u001b[0;34m=\u001b[0m \u001b[0moutputs\u001b[0m\u001b[0;34m.\u001b[0m\u001b[0mmax\u001b[0m\u001b[0;34m(\u001b[0m\u001b[0;36m1\u001b[0m\u001b[0;34m)\u001b[0m\u001b[0;34m[\u001b[0m\u001b[0;36m1\u001b[0m\u001b[0;34m]\u001b[0m\u001b[0;34m\u001b[0m\u001b[0;34m\u001b[0m\u001b[0m\n\u001b[0;32m---> 39\u001b[0;31m         \u001b[0mrunning_accuracy\u001b[0m \u001b[0;34m+=\u001b[0m \u001b[0mpredict\u001b[0m\u001b[0;34m.\u001b[0m\u001b[0meq\u001b[0m\u001b[0;34m(\u001b[0m\u001b[0mtarget\u001b[0m\u001b[0;34m)\u001b[0m\u001b[0;34m.\u001b[0m\u001b[0msum\u001b[0m\u001b[0;34m(\u001b[0m\u001b[0;34m)\u001b[0m\u001b[0;34m.\u001b[0m\u001b[0mitem\u001b[0m\u001b[0;34m(\u001b[0m\u001b[0;34m)\u001b[0m \u001b[0;34m/\u001b[0m \u001b[0mlen\u001b[0m\u001b[0;34m(\u001b[0m\u001b[0mtarget\u001b[0m\u001b[0;34m)\u001b[0m\u001b[0;34m\u001b[0m\u001b[0;34m\u001b[0m\u001b[0m\n\u001b[0m\u001b[1;32m     40\u001b[0m         \u001b[0mrunning_loss\u001b[0m \u001b[0;34m+=\u001b[0m \u001b[0mloss\u001b[0m\u001b[0;34m.\u001b[0m\u001b[0mitem\u001b[0m\u001b[0;34m(\u001b[0m\u001b[0;34m)\u001b[0m\u001b[0;34m\u001b[0m\u001b[0;34m\u001b[0m\u001b[0m\n\u001b[1;32m     41\u001b[0m \u001b[0;34m\u001b[0m\u001b[0m\n",
      "\u001b[0;31mKeyboardInterrupt\u001b[0m: "
     ]
    }
   ],
   "source": [
    "NEPOCH = 10\n",
    "best_val_acc = 0.0\n",
    "best_val_model = copy.deepcopy(model_ft.state_dict())\n",
    "for epoch in range(NEPOCH):\n",
    "\n",
    "    model.train(model_ft, train_loader, criterion, optimizer, epoch, writer, device)\n",
    "    val_loss, val_acc = model.evaluate(model_ft, val_loader, criterion, device)\n",
    "    print(f'epoch {epoch} | val loss {val_loss} | val acc {val_acc}')\n",
    "\n",
    "    if val_acc > best_val_acc:\n",
    "        best_val_acc = val_acc\n",
    "        best_val_model = copy.deepcopy(model_ft.state_dict())\n",
    "        \n",
    "model_ft.load_state_dict(best_val_model)\n",
    "test_loss, test_acc = model.evaluate(model_ft, test_loader, criterion, device)\n",
    "print(f'test loss {test_loss} | test acc {test_acc}')"
   ]
  },
  {
   "cell_type": "markdown",
   "metadata": {
    "ExecuteTime": {
     "end_time": "2020-02-25T08:15:48.361299Z",
     "start_time": "2020-02-25T08:15:48.357833Z"
    }
   },
   "source": [
    "## Save best model"
   ]
  },
  {
   "cell_type": "markdown",
   "metadata": {},
   "source": [
    "## Add hyper parameters and final results to tensorboard"
   ]
  },
  {
   "cell_type": "code",
   "execution_count": 57,
   "metadata": {
    "ExecuteTime": {
     "end_time": "2020-02-25T08:10:11.836922Z",
     "start_time": "2020-02-25T08:10:11.822123Z"
    }
   },
   "outputs": [],
   "source": [
    "hparam_dict = {'train size': len(train_loader.dataset),\n",
    "               'validation size': len(val_loader.dataset),\n",
    "               'test size': len(test_loader.dataset),\n",
    "               'batch number per epoch': len(train_loader),\n",
    "               'batch size': train_loader.batch_size,\n",
    "               'epoch number': EPOCH,\n",
    "               'input shape': str(input_size)}\n",
    "metric_dict = {'hparam/best validation accuracy': best_val_acc,\n",
    "               'hparam/test accuracy': test_acc}\n",
    "writer.add_hparams(hparam_dict, metric_dict)\n",
    "writer.flush()"
   ]
  },
  {
   "cell_type": "code",
   "execution_count": null,
   "metadata": {},
   "outputs": [],
   "source": []
  }
 ],
 "metadata": {
  "kernelspec": {
   "display_name": "Python [conda env:sign]",
   "language": "python",
   "name": "conda-env-sign-py"
  },
  "language_info": {
   "codemirror_mode": {
    "name": "ipython",
    "version": 3
   },
   "file_extension": ".py",
   "mimetype": "text/x-python",
   "name": "python",
   "nbconvert_exporter": "python",
   "pygments_lexer": "ipython3",
   "version": "3.6.7"
  },
  "toc": {
   "base_numbering": 1,
   "nav_menu": {},
   "number_sections": true,
   "sideBar": true,
   "skip_h1_title": false,
   "title_cell": "Table of Contents",
   "title_sidebar": "Contents",
   "toc_cell": false,
   "toc_position": {},
   "toc_section_display": true,
   "toc_window_display": false
  }
 },
 "nbformat": 4,
 "nbformat_minor": 2
}
